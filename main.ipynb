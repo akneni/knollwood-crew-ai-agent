{
 "cells": [
  {
   "cell_type": "code",
   "execution_count": 17,
   "metadata": {},
   "outputs": [
    {
     "data": {
      "text/plain": [
       "<module 'utils' from '/home/aknen/MEGA/Knollwood/Projects/crew-ai/utils.py'>"
      ]
     },
     "execution_count": 17,
     "metadata": {},
     "output_type": "execute_result"
    }
   ],
   "source": [
    "import importlib\n",
    "import tools\n",
    "importlib.reload(tools)"
   ]
  },
  {
   "cell_type": "code",
   "execution_count": 19,
   "metadata": {},
   "outputs": [],
   "source": [
    "from docx import Document\n",
    "\n",
    "def find_replace_in_document(doc_path, old_text, new_text):\n",
    "    doc = Document(doc_path)\n",
    "    \n",
    "    for paragraph in doc.paragraphs:\n",
    "        if old_text in paragraph.text:\n",
    "            inline = paragraph.runs\n",
    "            for i in range(len(inline)):\n",
    "                if old_text in inline[i].text:\n",
    "                    text = inline[i].text.replace(old_text, new_text)\n",
    "                    inline[i].text = text\n",
    "    \n",
    "    for table in doc.tables:\n",
    "        for row in table.rows:\n",
    "            for cell in row.cells:\n",
    "                if old_text in cell.text:\n",
    "                    inline = cell.paragraphs[0].runs\n",
    "                    for i in range(len(inline)):\n",
    "                        if old_text in inline[i].text:\n",
    "                            text = inline[i].text.replace(old_text, new_text)\n",
    "                            inline[i].text = text\n",
    "    \n",
    "    doc.save('modified_document.docx')\n",
    "\n",
    "# Usage\n",
    "find_replace_in_document(\n",
    "    'TEMPLATE FUND Screening Memo.docx', \n",
    "    '<[Firm Overview]>', \n",
    "    'new string'\n",
    ")"
   ]
  }
 ],
 "metadata": {
  "kernelspec": {
   "display_name": "base",
   "language": "python",
   "name": "python3"
  },
  "language_info": {
   "codemirror_mode": {
    "name": "ipython",
    "version": 3
   },
   "file_extension": ".py",
   "mimetype": "text/x-python",
   "name": "python",
   "nbconvert_exporter": "python",
   "pygments_lexer": "ipython3",
   "version": "3.12.2"
  }
 },
 "nbformat": 4,
 "nbformat_minor": 2
}

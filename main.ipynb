{
 "cells": [
  {
   "cell_type": "code",
   "execution_count": 27,
   "metadata": {},
   "outputs": [
    {
     "data": {
      "text/plain": [
       "<module 'utils' from '/home/aknen/MEGA/Knollwood/Projects/crew-ai/utils.py'>"
      ]
     },
     "execution_count": 27,
     "metadata": {},
     "output_type": "execute_result"
    }
   ],
   "source": [
    "import importlib\n",
    "import tools\n",
    "import utils\n",
    "import shelve\n",
    "importlib.reload(tools)\n",
    "importlib.reload(utils)"
   ]
  },
  {
   "cell_type": "code",
   "execution_count": 28,
   "metadata": {},
   "outputs": [
    {
     "name": "stdout",
     "output_type": "stream",
     "text": [
      "{'<[Overview]>': \"ASML is a lithography company that is the world's leading supplier of photolithography systems for the semiconductor industry. They provide chipmakers with hardware, software and services to mass produce patterns on silicon wafers. ASML specializes in extreme ultraviolet (EUV) lithography machines, which are critical for producing the most advanced semiconductor chips. ASML has a near-monopoly on EUV lithography technology, giving it a dominant position in the semiconductor equipment market. This makes ASML crucial to the global semiconductor supply chain. The company's technology enables the production of increasingly powerful and energy-efficient microchips, which are essential for advances in artificial intelligence, 5G networks, and other cutting-edge technologies.\", '<[Market Opportunity]>': \"ASML's technology is crucial for the semiconductor industry, which is experiencing strong growth driven by increasing demand for advanced chips in areas like artificial intelligence, 5G networks, and other cutting-edge technologies. The global semiconductor market is expected to continue expanding in the coming years, creating a favorable environment for ASML's business.<[SEP]>ASML's financial performance has been strong, with expectations of continued growth. Analysts predict significant revenue increases and margin improvements in the coming years.\", '<[Differentiation & Winning Deals]>': \"ASML's near-monopoly on EUV lithography technology gives it a significant competitive advantage in the semiconductor equipment market. The company's ability to coordinate a vast supply chain and integrate complex components is key to its success. ASML's focus on innovation and its collaborative approach to developing new semiconductor manufacturing capabilities have helped it secure deals with leading chipmakers worldwide.\", '<[Sourcing & Picking Deals]>': \"ASML's primary customers are leading semiconductor manufacturers, including Intel, Samsung, and TSMC. The company's sales are driven by the demand for advanced chips and its ability to meet the evolving needs of its customers. ASML's strong relationships with chipmakers and its reputation for innovation are key factors in its deal-making process.\", '<[Post-Investment]>': \"ASML invests heavily in research and development to maintain its technological edge. The company's ability to coordinate a vast supply chain and integrate complex components is key to its success.<[SEP]>ASML invests heavily in research and development to maintain its technological edge. The company's ability to coordinate a vast supply chain and integrate complex components is key to its success. ASML also provides ongoing support and services to its customers to ensure the smooth operation of its equipment.\", '<[Exiting Deals]>': \"ASML's technology is essential for the production of advanced chips, which are in high demand from various industries. This strong demand and ASML's dominant market position create opportunities for potential future acquisitions or IPOs. The company's ability to innovate and adapt to evolving technological trends will be crucial in shaping its exit strategy.\"}\n",
      "['<[Overview]>', '<[Market Opportunity]>', '<[Differentiation & Winning Deals]>', '<[Sourcing & Picking Deals]>', '<[Post-Investment]>', '<[Exiting Deals]>']\n"
     ]
    }
   ],
   "source": [
    "with shelve.open(\"./outputs/shelve-db/db\") as db:\n",
    "    print(dict(db))\n",
    "    print(list(db.keys()))"
   ]
  },
  {
   "cell_type": "code",
   "execution_count": 29,
   "metadata": {},
   "outputs": [],
   "source": [
    "utils.build_word_doc()"
   ]
  }
 ],
 "metadata": {
  "kernelspec": {
   "display_name": "base",
   "language": "python",
   "name": "python3"
  },
  "language_info": {
   "codemirror_mode": {
    "name": "ipython",
    "version": 3
   },
   "file_extension": ".py",
   "mimetype": "text/x-python",
   "name": "python",
   "nbconvert_exporter": "python",
   "pygments_lexer": "ipython3",
   "version": "3.12.2"
  }
 },
 "nbformat": 4,
 "nbformat_minor": 2
}
